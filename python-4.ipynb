{
 "cells": [
  {
   "cell_type": "code",
   "execution_count": 4,
   "metadata": {},
   "outputs": [
    {
     "name": "stdout",
     "output_type": "stream",
     "text": [
      "Item cost: 1.0\n",
      "Total cost: 1.0\n",
      "Total cost after discount: 1.0\n",
      "Item cost: 12212.0\n",
      "Total cost: 12212.0\n",
      "Total cost after discount: 9769.6\n",
      "Thank you for using the program\n"
     ]
    }
   ],
   "source": [
    "while True:\n",
    "    try:\n",
    "        \n",
    "        name = input(\"Enter your name: \")\n",
    "        age = int(input(\"Enter your age: \"))\n",
    "\n",
    "        if age >= 0 and age <= 6:\n",
    "            print(\"Kid\")\n",
    "        elif age < 0:\n",
    "            print(\"Wrong age value, you cannot enter a value 0 or less.\")\n",
    "        else:\n",
    "            total_cost = 0\n",
    "            x = int(input(\"Enter the number of items you want to buy: \"))\n",
    "            \n",
    "            for _ in range(x):\n",
    "                item_name = input(\"Enter item name: \")\n",
    "                item_price = float(input(\"Enter item price: \"))\n",
    "                item_quantity = int(input(\"Enter item quantity: \"))\n",
    "                \n",
    "                item_cost = item_price * item_quantity\n",
    "                total_cost += item_cost\n",
    "                \n",
    "                print(f\"Item cost: {item_cost}\")\n",
    "                print(f\"Total cost: {total_cost}\")\n",
    "            \n",
    "            if total_cost > 200:\n",
    "                total_cost *= 0.8 \n",
    "                \n",
    "            print(f\"Total cost after discount: {total_cost}\")\n",
    "        y = input(\"Do you want to repeat the process (y/n)? \")\n",
    "        if y != \"y\":\n",
    "            break\n",
    "\n",
    "    except ValueError:\n",
    "        print(\"Invalid input.\")\n",
    "\n",
    "print(\"Thank you for using the program\")\n"
   ]
  }
 ],
 "metadata": {
  "kernelspec": {
   "display_name": "Data_Analysis",
   "language": "python",
   "name": "python3"
  },
  "language_info": {
   "codemirror_mode": {
    "name": "ipython",
    "version": 3
   },
   "file_extension": ".py",
   "mimetype": "text/x-python",
   "name": "python",
   "nbconvert_exporter": "python",
   "pygments_lexer": "ipython3",
   "version": "3.11.5"
  },
  "orig_nbformat": 4
 },
 "nbformat": 4,
 "nbformat_minor": 2
}
